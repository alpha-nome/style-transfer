{
 "cells": [
  {
   "cell_type": "code",
   "execution_count": 31,
   "metadata": {},
   "outputs": [
    {
     "name": "stderr",
     "output_type": "stream",
     "text": [
      "Using cache found in /Users/sachinchandra/.cache/torch/hub/pytorch_vision_v0.6.0\n"
     ]
    },
    {
     "name": "stdout",
     "output_type": "stream",
     "text": [
      "Running locally at: http://127.0.0.1:7885/\n",
      "To get a public link for a hosted model, set Share=True\n",
      "Interface loading below...\n"
     ]
    },
    {
     "data": {
      "text/html": [
       "\n",
       "        <iframe\n",
       "            width=\"1000\"\n",
       "            height=\"500\"\n",
       "            src=\"http://127.0.0.1:7885/\"\n",
       "            frameborder=\"0\"\n",
       "            allowfullscreen\n",
       "        ></iframe>\n",
       "        "
      ],
      "text/plain": [
       "<IPython.lib.display.IFrame at 0x7fc946f593d0>"
      ]
     },
     "metadata": {},
     "output_type": "display_data"
    },
    {
     "data": {
      "text/plain": [
       "(<Flask 'gradio.networking'>, 'http://127.0.0.1:7885/', None)"
      ]
     },
     "execution_count": 31,
     "metadata": {},
     "output_type": "execute_result"
    }
   ],
   "source": [
    "import gradio as gr\n",
    "import torch\n",
    "from torchvision import transforms\n",
    "import requests\n",
    "from PIL import Image\n",
    "from net import Net, Vgg16\n",
    "import numpy as np\n",
    "\n",
    "\n",
    "model = torch.hub.load('pytorch/vision:v0.6.0', 'resnet18', pretrained=True).eval()\n",
    "\n",
    "# Download human-readable labels for ImageNet.\n",
    "response = requests.get(\"https://git.io/JJkYN\")\n",
    "labels = response.text.split(\"\\n\")\n",
    "\n",
    "def preprocess_batch(batch):\n",
    "    batch = batch.transpose(0, 1)\n",
    "    (r, g, b) = torch.chunk(batch, 3)\n",
    "    batch = torch.cat((b, g, r))\n",
    "    batch = batch.transpose(0, 1)\n",
    "    return batch\n",
    "\n",
    "def tensor_load_rgbimage(filename, size=None, scale=None, keep_asp=False):\n",
    "\n",
    "    img = Image.open(filename).convert('RGB')\n",
    "    if size is not None:\n",
    "        if keep_asp:\n",
    "            size2 = int(size * 1.0 / img.size[0] * img.size[1])\n",
    "            img = img.resize((size, size2), Image.ANTIALIAS)\n",
    "        else:\n",
    "            img = img.resize((size, size), Image.ANTIALIAS)\n",
    "\n",
    "    elif scale is not None:\n",
    "        img = img.resize((int(img.size[0] / scale), int(img.size[1] / scale)), Image.ANTIALIAS)\n",
    "    img = np.array(img).transpose(2, 0, 1)\n",
    "    img = torch.from_numpy(img).float()\n",
    "    return img\n",
    "\n",
    "def tensor_load_rgbimage_2(filename, size=None, scale=None, keep_asp=False):\n",
    "\n",
    "    img = Image.fromarray(filename).convert('RGB')\n",
    "    if size is not None:\n",
    "        if keep_asp:\n",
    "            size2 = int(size * 1.0 / img.size[0] * img.size[1])\n",
    "            img = img.resize((size, size2), Image.ANTIALIAS)\n",
    "        else:\n",
    "            img = img.resize((size, size), Image.ANTIALIAS)\n",
    "\n",
    "    elif scale is not None:\n",
    "        img = img.resize((int(img.size[0] / scale), int(img.size[1] / scale)), Image.ANTIALIAS)\n",
    "    img = np.array(img).transpose(2, 0, 1)\n",
    "    img = torch.from_numpy(img).float()\n",
    "    return img\n",
    "\n",
    "\n",
    "def evaluate(img):\n",
    "    content_image = tensor_load_rgbimage_2(img, size=1024, keep_asp=True)\n",
    "    #content_image = img\n",
    "    content_image = content_image.unsqueeze(0)\n",
    "    style = tensor_load_rgbimage(\"images/21styles/candy.jpg\", size=512)\n",
    "    style = style.unsqueeze(0)    \n",
    "    style = preprocess_batch(style)\n",
    "    \n",
    "    style_model = Net(ngf=128)\n",
    "    model_dict = torch.load(\"models/21styles.model\")\n",
    "    model_dict_clone = model_dict.copy()\n",
    "    for key, value in model_dict_clone.items():\n",
    "        if key.endswith(('running_mean', 'running_var')):\n",
    "            del model_dict[key]\n",
    "    style_model.load_state_dict(model_dict, False)\n",
    "\n",
    "    style_v = Variable(style)\n",
    "\n",
    "    content_image = Variable(preprocess_batch(content_image))\n",
    "    style_model.setTarget(style_v)\n",
    "\n",
    "    output = style_model(content_image)\n",
    "    img = output.data[0].clone().clamp(0, 255).numpy()\n",
    "    img = img.transpose(1, 2, 0).astype('uint8')\n",
    "    img = Image.fromarray(img)\n",
    "    #output = utils.color_match(output, style_v)\n",
    "    return img\n",
    "\n",
    "def predict(inp):\n",
    "    return inp\n",
    "inputs = gr.inputs.Image()\n",
    "outputs = gr.outputs.Image()\n",
    "gr.Interface(fn=evaluate, inputs=inputs, outputs=outputs).launch(share=False)"
   ]
  },
  {
   "cell_type": "code",
   "execution_count": null,
   "metadata": {},
   "outputs": [],
   "source": []
  }
 ],
 "metadata": {
  "kernelspec": {
   "display_name": "Python 3",
   "language": "python",
   "name": "python3"
  },
  "language_info": {
   "codemirror_mode": {
    "name": "ipython",
    "version": 3
   },
   "file_extension": ".py",
   "mimetype": "text/x-python",
   "name": "python",
   "nbconvert_exporter": "python",
   "pygments_lexer": "ipython3",
   "version": "3.8.3"
  }
 },
 "nbformat": 4,
 "nbformat_minor": 4
}
